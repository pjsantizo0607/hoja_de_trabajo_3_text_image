{
 "cells": [
  {
   "cell_type": "markdown",
   "id": "d7559ff0-21f1-4099-9600-16809a12e6b4",
   "metadata": {
    "tags": []
   },
   "source": [
    "# Hoja de trabajo 3 # \n",
    "**Nombre:** Pablo Santizo\\\n",
    "**Carné:** 24000134\\\n",
    "**Curso** Tex Mining & Image Recognition\\\n",
    "**Maestría:** Data Science\\\n",
    "**Universidad:** Galileo, Instituto en Investigación de Operaciones"
   ]
  },
  {
   "cell_type": "markdown",
   "id": "48efdaf4-1bdc-43f9-bb08-d0bf51d3e8b4",
   "metadata": {
    "tags": []
   },
   "source": [
    "# Problema 1:"
   ]
  },
  {
   "cell_type": "code",
   "execution_count": 5,
   "id": "43dc44c8-1127-4e48-8483-4da656decb40",
   "metadata": {
    "tags": []
   },
   "outputs": [],
   "source": [
    "import re"
   ]
  },
  {
   "cell_type": "markdown",
   "id": "48a22950-5c87-4445-ab3a-7ac8458095f8",
   "metadata": {},
   "source": [
    "## 1. Implemente una regex para validar un correo electrónico en general, a continuaciónn se muestran algunos ejemplos."
   ]
  },
  {
   "cell_type": "code",
   "execution_count": 12,
   "id": "ff35437c-1dc8-4e96-a5aa-55d853bab531",
   "metadata": {
    "tags": []
   },
   "outputs": [],
   "source": [
    "def validacion_correo(correo):\n",
    "    patron = r'^[a-zA-Z0-9._%+-]+@[a-zA-Z0-9.-]+\\.[a-zA-Z]{2,}$'\n",
    "    return re.match(patron, correo) is not None"
   ]
  },
  {
   "cell_type": "code",
   "execution_count": 13,
   "id": "5e22efcf-e32d-4ca1-a0bb-39f30fa41f16",
   "metadata": {
    "tags": []
   },
   "outputs": [
    {
     "name": "stdout",
     "output_type": "stream",
     "text": [
      "'Guate.360-porelmundo@miguate.com' es un correo electrónico válido.\n",
      "'Miercoles3@hotmail.com' es un correo electrónico válido.\n",
      "'Progra3.galileo@galileo.edu' es un correo electrónico válido.\n",
      "'usuario_invalido@dominio,com' es un correo electrónico inválido.\n",
      "'otro.usuario@dominio' es un correo electrónico inválido.\n"
     ]
    }
   ],
   "source": [
    "# Validación \n",
    "correos = [\n",
    "    \"Guate.360-porelmundo@miguate.com\",\n",
    "    \"Miercoles3@hotmail.com\",\n",
    "    \"Progra3.galileo@galileo.edu\",\n",
    "    \"usuario_invalido@dominio,com\",  # Incorrecto\n",
    "    \"otro.usuario@dominio\",          # Incorrecto\n",
    "]\n",
    "\n",
    "for correo in correos:\n",
    "    if validacion_correo(correo):\n",
    "        print(f\"'{correo}' es un correo electrónico válido.\")\n",
    "    else:\n",
    "        print(f\"'{correo}' es un correo electrónico inválido.\")"
   ]
  },
  {
   "cell_type": "markdown",
   "id": "acdbb30b-baed-472e-a223-2d59b107066d",
   "metadata": {},
   "source": [
    "## 2. Implemente una regex para validar la dirección url de una página web con los tipos de domino (.com, .org, .edu). Note que la url incluye el protocolo (http o https) y los s´ımbolos (//www.)"
   ]
  },
  {
   "cell_type": "code",
   "execution_count": 26,
   "id": "e1afbe32-0bb5-4e56-9e20-77ab9b216ac0",
   "metadata": {
    "tags": []
   },
   "outputs": [],
   "source": [
    "def validacion_url(url):\n",
    "    patron = r'^(https?:\\/\\/www\\.)[a-zA-Z0-9-]+(\\.[a-zA-Z]{2,})*(\\.(com|edu|net))$'\n",
    "    return re.match(patron, url) is not None"
   ]
  },
  {
   "cell_type": "code",
   "execution_count": 27,
   "id": "3b154d78-7557-4830-ac9e-674b7dac1a6e",
   "metadata": {
    "tags": []
   },
   "outputs": [
    {
     "name": "stdout",
     "output_type": "stream",
     "text": [
      "'https://www.guate360-porelmundo.com' es una URL válida.\n",
      "'http://www.a2.net' es una URL válida.\n",
      "'https://www.galileo.edu' es una URL válida.\n",
      "'http://www.8.org' es una URL inválida.\n"
     ]
    }
   ],
   "source": [
    "# Validación\n",
    "urls = [\n",
    "    \"https://www.guate360-porelmundo.com\",\n",
    "    \"http://www.a2.net\",                # Incorrecto\n",
    "    \"https://www.galileo.edu\",\n",
    "    \"http://www.8.org\"                  # Incorrecto\n",
    "]\n",
    "\n",
    "for url in urls:\n",
    "    if validacion_url(url):\n",
    "        print(f\"'{url}' es una URL válida.\")\n",
    "    else:\n",
    "        print(f\"'{url}' es una URL inválida.\")"
   ]
  },
  {
   "cell_type": "markdown",
   "id": "938e39bc-ab00-4d34-92c3-90a2443057a7",
   "metadata": {},
   "source": [
    "## 3. Implemente una regex para validar una MAC Address, notar que las mac addres están divididas en 6 bloques de caracteres hexadecimales, es decir que los símbolos solo pueden variar del 0 al 9 y las letras de la A a la F. "
   ]
  },
  {
   "cell_type": "code",
   "execution_count": 30,
   "id": "6c6f4763-8a73-447b-a86d-c0ee2786e0f8",
   "metadata": {
    "tags": []
   },
   "outputs": [],
   "source": [
    "def validacion_mac(mac):\n",
    "    patron = r'^([0-9A-F]{2} ){5}[0-9A-F]{2}$'\n",
    "    return re.match(patron, mac) is not None"
   ]
  },
  {
   "cell_type": "code",
   "execution_count": 32,
   "id": "94a88057-14c7-4b02-8584-acbf76269000",
   "metadata": {
    "tags": []
   },
   "outputs": [
    {
     "name": "stdout",
     "output_type": "stream",
     "text": [
      "'5A 6F AF 8C 9B 1D' es una MAC Address válida.\n",
      "'6D 6C 4D 3A EB 3F' es una MAC Address válida.\n",
      "'3A 7C FA C8 6D 4J' es una MAC Address inválida.\n"
     ]
    }
   ],
   "source": [
    "# Validación\n",
    "mac_addresses = [\n",
    "    \"5A 6F AF 8C 9B 1D\",\n",
    "    \"6D 6C 4D 3A EB 3F\",\n",
    "    \"3A 7C FA C8 6D 4J\"  # Incorrecto\n",
    "]\n",
    "\n",
    "for mac in mac_addresses:\n",
    "    if validacion_mac(mac):\n",
    "        print(f\"'{mac}' es una MAC Address válida.\")\n",
    "    else:\n",
    "        print(f\"'{mac}' es una MAC Address inválida.\")"
   ]
  },
  {
   "cell_type": "markdown",
   "id": "82136c24-0070-4873-bbc5-31d35bfdff65",
   "metadata": {
    "tags": []
   },
   "source": [
    "## 4. Implemente una regex para validar una dirección IPv4, notar que las direcciones IPv4 están divididas en 4 bloques de valores los cuales solo pueden ir desde 0 hasta 255, una ip donde algunos de sus bloques sea mayor a 255 no es valida, además tome en cuenta que cada bloque está separada por un punto."
   ]
  },
  {
   "cell_type": "code",
   "execution_count": 34,
   "id": "f9cdb925-0a7a-4bd3-9156-c093d1d29cf6",
   "metadata": {
    "tags": []
   },
   "outputs": [],
   "source": [
    "def validar_ipv4(ip):\n",
    "    patron = r'^((25[0-5]|2[0-4][0-9]|1[0-9]{2}|[1-9]?[0-9])\\.){3}(25[0-5]|2[0-4][0-9]|1[0-9]{2}|[1-9]?[0-9])$'\n",
    "    return re.match(patron, ip) is not None"
   ]
  },
  {
   "cell_type": "code",
   "execution_count": 36,
   "id": "43d49a73-69e8-465b-8989-5e9fc2d04c40",
   "metadata": {
    "tags": []
   },
   "outputs": [
    {
     "name": "stdout",
     "output_type": "stream",
     "text": [
      "'192.16.8.1' es una dirección IPv4 válida.\n",
      "'234.56.78.90' es una dirección IPv4 válida.\n",
      "'1.2.3.4' es una dirección IPv4 válida.\n",
      "'192.168.45.345' es una dirección IPv4 inválida.\n"
     ]
    }
   ],
   "source": [
    "# Validación\n",
    "ips = [\n",
    "    \"192.16.8.1\",\n",
    "    \"234.56.78.90\",\n",
    "    \"1.2.3.4\",\n",
    "    \"192.168.45.345\"  # Incorrecto\n",
    "]\n",
    "\n",
    "for ip in ips:\n",
    "    if validar_ipv4(ip):\n",
    "        print(f\"'{ip}' es una dirección IPv4 válida.\")\n",
    "    else:\n",
    "        print(f\"'{ip}' es una dirección IPv4 inválida.\")"
   ]
  },
  {
   "cell_type": "markdown",
   "id": "b974d56c-a5aa-42bf-93b9-7ea603916930",
   "metadata": {},
   "source": [
    "## 5. Implemente una regex para validar una fecha con la secuencia día-mes-año donde el día, mes y año puedan estar separados ya sea por el caracter / o el caracter - o el caracter ., notar que las fechas son validas si los si los d´ıas est´an definidos desde el 1 al 31, el mes del 1 al 12 y el año de 2000 al 2019. Tambi´en debe tomar en cuenta que los días y meses pueden estar escritos ya sea con uno o dos caracteres por ejemplo: Enero puede escribirse como 1 o como 01. Los años también pueden expresarse ya sea con dos o con cuatro caracteres."
   ]
  },
  {
   "cell_type": "code",
   "execution_count": 37,
   "id": "1de236d0-4118-4370-946d-f43501347955",
   "metadata": {
    "tags": []
   },
   "outputs": [],
   "source": [
    "def validacion_fecha(fecha):\n",
    "    patron = r'^(0?[1-9]|[12][0-9]|3[01])[\\/\\-.](0?[1-9]|1[0-2])[\\/\\-.](20[0-1][0-9]|[0-1][0-9])$'\n",
    "    return re.match(patron, fecha) is not None"
   ]
  },
  {
   "cell_type": "code",
   "execution_count": 39,
   "id": "b16f2817-8c8f-4979-9a73-040ec8fed133",
   "metadata": {
    "tags": []
   },
   "outputs": [
    {
     "name": "stdout",
     "output_type": "stream",
     "text": [
      "'20/1/2019' es una fecha válida.\n",
      "'12.03.2005' es una fecha válida.\n",
      "'31-11-08' es una fecha válida.\n",
      "'1-1-2012' es una fecha válida.\n",
      "'12-12-22' es una fecha inválida.\n"
     ]
    }
   ],
   "source": [
    "# Validación\n",
    "\n",
    "fechas = [\n",
    "    \"20/1/2019\",\n",
    "    \"12.03.2005\",\n",
    "    \"31-11-08\",\n",
    "    \"1-1-2012\",\n",
    "    \"12-12-22\"  # Incorrecto\n",
    "]\n",
    "\n",
    "for fecha in fechas:\n",
    "    if validacion_fecha(fecha):\n",
    "        print(f\"'{fecha}' es una fecha válida.\")\n",
    "    else:\n",
    "        print(f\"'{fecha}' es una fecha inválida.\")"
   ]
  },
  {
   "cell_type": "markdown",
   "id": "742e7a74-3a58-4ae9-b653-85e033d03f24",
   "metadata": {
    "tags": []
   },
   "source": [
    "# Problema 2"
   ]
  },
  {
   "cell_type": "markdown",
   "id": "5b8cefb2-5cf0-454d-bcd6-02e10c5313e3",
   "metadata": {},
   "source": [
    "En la carpeta encontrar´a adjuntos 21 documentos que tiene 100 fechas en la secuencia díaas-mes-año\n",
    "pero con distinto separador y distinto formato de mes, en algunos casos aparece un numero y en\n",
    "otros el nombre del mes en ingles, por ejemplo: Enero pueder aparecer como 1 o como Jan.\n",
    "\n",
    "Utilice Python y expresiones regulares para encontrar el día, mes y año promedio total del los 21\n",
    "archivos, los resultados deben ser un double."
   ]
  },
  {
   "cell_type": "code",
   "execution_count": 68,
   "id": "67874178-6982-4547-bdf8-f5679a97697c",
   "metadata": {
    "tags": []
   },
   "outputs": [],
   "source": [
    "import re\n",
    "import os"
   ]
  },
  {
   "cell_type": "code",
   "execution_count": 69,
   "id": "9a83407c-10e9-4ed1-b390-dafcd0560d73",
   "metadata": {
    "tags": []
   },
   "outputs": [],
   "source": [
    "meses = {\n",
    "    'Jan': 1, 'Feb': 2, 'Mar': 3, 'Apr': 4, 'May': 5, 'Jun': 6,\n",
    "    'Jul': 7, 'Aug': 8, 'Sep': 9, 'Oct': 10, 'Nov': 11, 'Dec': 12\n",
    "}"
   ]
  },
  {
   "cell_type": "code",
   "execution_count": 70,
   "id": "eac58a68-a832-46dd-9930-497c1b265660",
   "metadata": {
    "tags": []
   },
   "outputs": [],
   "source": [
    "regex = r'(\\d{1,2})[\\/\\-. ](Jan|Feb|Mar|Apr|May|Jun|Jul|Aug|Sep|Oct|Nov|Dec|\\d{1,2})[\\/\\-. ](\\d{2,4})'\n",
    "\n",
    "total_dias = 0\n",
    "total_meses = 0\n",
    "total_anios = 0\n",
    "total_fechas = 0"
   ]
  },
  {
   "cell_type": "code",
   "execution_count": 71,
   "id": "cf611cba-3876-4cb4-989e-7a39b6bc0f7e",
   "metadata": {
    "tags": []
   },
   "outputs": [],
   "source": [
    "# Leer archivos y tomar las fechas\n",
    "carpeta = \"Lab3/Datos\"\n",
    "for i in range(1, 22):  \n",
    "    archivo = os.path.join(carpeta, f'D{i}.txt')\n",
    "    \n",
    "    with open(archivo, 'r') as f:\n",
    "        contenido = f.read()\n",
    "        fechas = re.findall(regex, contenido)\n",
    "        \n",
    "        for dia, mes, anio in fechas:\n",
    "            dia = int(dia)\n",
    "            anio = int(anio) if len(anio) == 4 else int(f\"20{anio}\")\n",
    "            \n",
    "            if mes.isdigit():\n",
    "                mes = int(mes)\n",
    "            else:\n",
    "                mes = meses[mes]\n",
    "            \n",
    "            total_dias += dia\n",
    "            total_meses += mes\n",
    "            total_anios += anio\n",
    "            total_fechas += 1"
   ]
  },
  {
   "cell_type": "code",
   "execution_count": 72,
   "id": "19562665-00c0-4cd3-83ce-b14fc3a7e513",
   "metadata": {
    "tags": []
   },
   "outputs": [],
   "source": [
    "# Para responder la pregunta\n",
    "promedio_dia = total_dias / total_fechas\n",
    "promedio_mes = total_meses / total_fechas\n",
    "promedio_anio = total_anios / total_fechas"
   ]
  },
  {
   "cell_type": "code",
   "execution_count": 73,
   "id": "9706362f-e8f5-44ce-93b2-75022950a7bf",
   "metadata": {
    "tags": []
   },
   "outputs": [
    {
     "name": "stdout",
     "output_type": "stream",
     "text": [
      "Promedio de día: 15.62\n",
      "Promedio de mes: 6.47\n",
      "Promedio de año: 2016.69\n"
     ]
    }
   ],
   "source": [
    "print(f\"Promedio de día: {promedio_dia:.2f}\")\n",
    "print(f\"Promedio de mes: {promedio_mes:.2f}\")\n",
    "print(f\"Promedio de año: {promedio_anio:.2f}\")\n"
   ]
  },
  {
   "cell_type": "markdown",
   "id": "a3361afa-7d9e-478b-b3b1-59b073000d75",
   "metadata": {
    "tags": []
   },
   "source": [
    "# Problema 3"
   ]
  },
  {
   "cell_type": "markdown",
   "id": "c85626c0-9430-4dc5-9ff7-aceaf35d24f1",
   "metadata": {},
   "source": [
    "Link de Colab \n",
    "https://colab.research.google.com/drive/1nJlxUxyxtDROm86ybMg9jOPt5sXyf1Nu?usp=sharing"
   ]
  },
  {
   "cell_type": "markdown",
   "id": "ac907a36-2244-4091-9a81-ae9f4ea9d92c",
   "metadata": {},
   "source": [
    "# Subir  a Github"
   ]
  },
  {
   "cell_type": "code",
   "execution_count": 80,
   "id": "31107777-9fd5-498b-8c0a-0a028b28a78d",
   "metadata": {
    "tags": []
   },
   "outputs": [
    {
     "name": "stdout",
     "output_type": "stream",
     "text": [
      "C:\\Users\\joshp\\Desktop\\Maestría de data science\\Text mining\\Hoja de trabajo 3\n"
     ]
    }
   ],
   "source": [
    "cd \"C:\\Users\\joshp\\Desktop\\Maestría de data science\\Text mining\\Hoja de trabajo 3\"\n"
   ]
  },
  {
   "cell_type": "code",
   "execution_count": 81,
   "id": "9836c14c-93d9-4cf8-bbbe-04464992a3cd",
   "metadata": {
    "tags": []
   },
   "outputs": [],
   "source": [
    "!git config --global user.email \"24000134@galileo.edu\"\n",
    "!git config --global user.name \"pjsantizo0607\""
   ]
  },
  {
   "cell_type": "code",
   "execution_count": 83,
   "id": "a4c66ed7-eabb-4379-bacd-37b313834705",
   "metadata": {
    "tags": []
   },
   "outputs": [
    {
     "name": "stdout",
     "output_type": "stream",
     "text": [
      "Reinitialized existing Git repository in C:/Users/joshp/Desktop/MaestrÃ­a de data science/Text mining/Hoja de trabajo 3/.git/\n"
     ]
    }
   ],
   "source": [
    "!git init\n",
    "!git add \"Hoja_de_trabajo_3.ipynb\""
   ]
  },
  {
   "cell_type": "code",
   "execution_count": 84,
   "id": "29911521-62a4-4d81-8b84-d0118dddfa36",
   "metadata": {
    "tags": []
   },
   "outputs": [
    {
     "name": "stdout",
     "output_type": "stream",
     "text": [
      "[master (root-commit) c6960ea] Subir notebook Hoja_de_trabajo_3\n",
      " 1 file changed, 542 insertions(+)\n",
      " create mode 100644 Hoja_de_trabajo_3.ipynb\n"
     ]
    }
   ],
   "source": [
    "!git commit -m \"Subir notebook Hoja_de_trabajo_3\"\n"
   ]
  },
  {
   "cell_type": "code",
   "execution_count": 88,
   "id": "421dc505-e6e8-4899-aed4-22111079fa50",
   "metadata": {
    "tags": []
   },
   "outputs": [
    {
     "name": "stderr",
     "output_type": "stream",
     "text": [
      "error: remote origin already exists.\n"
     ]
    }
   ],
   "source": [
    "!git remote add origin https://github.com/pjsantizo0607/hoja_de_trabajo_3_tm_ir.git\n"
   ]
  },
  {
   "cell_type": "code",
   "execution_count": 89,
   "id": "858bc227-ce31-4994-b607-f47cbc82d3c2",
   "metadata": {
    "tags": []
   },
   "outputs": [
    {
     "name": "stderr",
     "output_type": "stream",
     "text": [
      "Everything up-to-date\n"
     ]
    }
   ],
   "source": [
    "!git push -f origin master"
   ]
  }
 ],
 "metadata": {
  "kernelspec": {
   "display_name": "Python 3 (ipykernel)",
   "language": "python",
   "name": "python3"
  },
  "language_info": {
   "codemirror_mode": {
    "name": "ipython",
    "version": 3
   },
   "file_extension": ".py",
   "mimetype": "text/x-python",
   "name": "python",
   "nbconvert_exporter": "python",
   "pygments_lexer": "ipython3",
   "version": "3.11.5"
  }
 },
 "nbformat": 4,
 "nbformat_minor": 5
}
